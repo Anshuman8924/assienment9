{
 "cells": [
  {
   "cell_type": "code",
   "execution_count": null,
   "id": "295b5c69-411e-4021-8f51-758279bc61a5",
   "metadata": {},
   "outputs": [],
   "source": [
    "#Q1. What is Abstraction in OOps? Explain with an example.\n"
   ]
  },
  {
   "cell_type": "code",
   "execution_count": 1,
   "id": "86d6f512-d7c9-43bc-94f6-03a644ee99a5",
   "metadata": {},
   "outputs": [],
   "source": [
    "#Ans _  “displays” only the relevant attributes of objects and “hides” the unnecessary details. \n",
    "# hide implementation and show only set of service\n",
    "# ex - we drive a car our concern is only drive car like start ,stop, brake and \n",
    "# accelerate .our concern is not mechanism behind it .\n"
   ]
  },
  {
   "cell_type": "code",
   "execution_count": 11,
   "id": "50340630-ad71-446b-aaf6-dd1ca758de85",
   "metadata": {},
   "outputs": [],
   "source": [
    "import abc \n",
    "class pw:\n",
    "    @abc.abstractmethod\n",
    "    def student(self):\n",
    "        pass\n",
    "    @abc.abstractmethod\n",
    "    def assianment(self):\n",
    "        pass"
   ]
  },
  {
   "cell_type": "code",
   "execution_count": 12,
   "id": "1f9de259-1c99-46a8-9ec3-ae0890a96410",
   "metadata": {},
   "outputs": [],
   "source": [
    "class subject(pw):\n",
    "    def student():\n",
    "        return ('its good student')\n",
    "    def assianment():\n",
    "        return 'its your assienment'\n",
    "    "
   ]
  },
  {
   "cell_type": "code",
   "execution_count": 14,
   "id": "27363191-fc85-4ca0-8b94-be30986402c5",
   "metadata": {},
   "outputs": [],
   "source": [
    "sss=subject\n",
    "    \n",
    "    \n",
    "\n"
   ]
  },
  {
   "cell_type": "code",
   "execution_count": 15,
   "id": "f0394fc6-cc44-468c-8ba8-79a3b5e14401",
   "metadata": {},
   "outputs": [
    {
     "data": {
      "text/plain": [
       "'its good'"
      ]
     },
     "execution_count": 15,
     "metadata": {},
     "output_type": "execute_result"
    }
   ],
   "source": [
    "sss.stdet()"
   ]
  },
  {
   "cell_type": "code",
   "execution_count": 9,
   "id": "cb66a8ce-27ca-4037-b7c3-b8c8f084f605",
   "metadata": {},
   "outputs": [],
   "source": [
    "#Q2. Differentiate between Abstraction and Encapsulation. Explain with an example."
   ]
  },
  {
   "cell_type": "code",
   "execution_count": 1,
   "id": "06d64685-a2c8-4b4d-99c8-db52a6592c92",
   "metadata": {},
   "outputs": [],
   "source": [
    "# Ans Abstraction is a process of hiding the implementation details of a system from the user, and only the functional details will\n",
    "# be available to the user end. On the other hand, Encapsulation is a method of wrapping up\n",
    "# the data and code acting on the data into a single unit."
   ]
  },
  {
   "cell_type": "code",
   "execution_count": 2,
   "id": "45d91a0f-752b-41bb-86a6-a581a1467171",
   "metadata": {},
   "outputs": [],
   "source": [
    "# abstraction\n",
    "#It can be implemented using abstract classes and interfaces.\n",
    "#It helps hide the unwanted details/information.\n",
    "# encapsulation\n",
    "#It can be implemented using access modifiers like public, private and protected.\n",
    "#It helps hide data using a single entity, or using a unit with the help of method that\n",
    "# helps protect the information.\n"
   ]
  },
  {
   "cell_type": "code",
   "execution_count": null,
   "id": "eeb39d58-426e-492b-90e0-bc54b42545bf",
   "metadata": {},
   "outputs": [],
   "source": [
    "# Q3. What is abc module in python? Why is it used?"
   ]
  },
  {
   "cell_type": "code",
   "execution_count": 3,
   "id": "ea9920f7-9a31-4398-9e73-8ddc92ded5df",
   "metadata": {},
   "outputs": [],
   "source": [
    "#The 'abc' module in Python library provides the infrastructure for defining custom\n",
    "#abstract base classes. 'abc' works by marking methods of the base class as abstract.\n",
    "#This is done by @absttractmethod decorator."
   ]
  },
  {
   "cell_type": "code",
   "execution_count": 4,
   "id": "d6e0ace3-b36e-401b-b13a-107167175b68",
   "metadata": {},
   "outputs": [],
   "source": [
    "#Q4. How can we achieve data abstraction?"
   ]
  },
  {
   "cell_type": "code",
   "execution_count": 5,
   "id": "80e0a2d9-238e-4936-9b4e-58cd7bc9615f",
   "metadata": {},
   "outputs": [],
   "source": [
    "# Ans_ Data Abstraction in Python can be achieved through creating abstract classes and\n",
    "# inheriting them later.\n",
    "   \n",
    "    # creat abstrat class\n",
    "       \n",
    "          \n",
    "    # inheriting the abstract class"
   ]
  },
  {
   "cell_type": "code",
   "execution_count": 6,
   "id": "972af190-be8c-4025-a9c2-b3a38ea67255",
   "metadata": {},
   "outputs": [],
   "source": [
    "#Ques5- Can we create an instance of an abstract class? Explain your answer."
   ]
  },
  {
   "cell_type": "code",
   "execution_count": null,
   "id": "fdcdaa43-4e49-4f88-bfe2-a55573260215",
   "metadata": {},
   "outputs": [],
   "source": [
    "# Ans_ Abstract classes cannot be instantiated, but they can be subclassed. When an abstract\n",
    "#class is subclassed, the subclass usually provides implementations for all of the\n",
    "#abstract methods in its parent class. However, if it does not, then the subclass must\n",
    "#also be declared abstract ."
   ]
  }
 ],
 "metadata": {
  "kernelspec": {
   "display_name": "Python 3 (ipykernel)",
   "language": "python",
   "name": "python3"
  },
  "language_info": {
   "codemirror_mode": {
    "name": "ipython",
    "version": 3
   },
   "file_extension": ".py",
   "mimetype": "text/x-python",
   "name": "python",
   "nbconvert_exporter": "python",
   "pygments_lexer": "ipython3",
   "version": "3.10.8"
  }
 },
 "nbformat": 4,
 "nbformat_minor": 5
}
